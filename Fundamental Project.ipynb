{
 "cells": [
  {
   "cell_type": "code",
   "execution_count": null,
   "metadata": {},
   "outputs": [],
   "source": [
    "#1 _Fibonacci Sequence_\n",
    "\n",
    "#Solution using iteration\n",
    "#0,1,1,2,3,5,8,13,21 ... n\n",
    "\n",
    "def getNthFib (n):\n",
    "    nfib = [0,1]\n",
    "    i=2\n",
    "    while i<n:\n",
    "        nextfib = nfib[0] + nfib[1]\n",
    "        nfib[0] = nfib[1]\n",
    "        nfib[1] = nextfib\n",
    "        i += 1\n",
    "    return nfib[1] if n>1 else nfib[0]\n",
    "\n",
    "#Solution 2\n",
    "#def getNthFib(n, memoiz = {1:0, 2:1}):\n",
    "#    if n in memoiz:\n",
    "#        return memoiz[n]\n",
    "#    else:\n",
    "#        memoiz[n] = getNthFib(n-1, memoiz) + getNthFib(n-2, memoiz)\n",
    "#        return memoiz[n]\n",
    "\n",
    "#Done"
   ]
  },
  {
   "cell_type": "code",
   "execution_count": null,
   "metadata": {},
   "outputs": [],
   "source": [
    "#2 _99 Bottles_\n",
    "\n",
    "def nineninebottle():\n",
    "    bottle = [99,98]\n",
    "    while bottle[0]>0:\n",
    "        if bottle[0] == 2:\n",
    "            print(bottle[0],'bottles of beer on the wall,', bottle[0],\n",
    "                  'bottles of beer. \\nTake one down and pass it around,',\n",
    "                  bottle[1],'bottle of beer on the wall. \\n')\n",
    "\n",
    "        elif bottle[0] == 1:\n",
    "            print(bottle[0],'bottle of beer on the wall,', bottle[0],\n",
    "                  'bottle of beer. \\nTake one down and pass it around, no more bottles of beer on the wall. \\n')\n",
    "\n",
    "        else:\n",
    "            print(bottle[0],'bottles of beer on the wall,', bottle[0],\n",
    "                  'bottles of beer. \\nTake one down and pass it around,',\n",
    "                  bottle[1],'bottles of beer on the wall. \\n')\n",
    "        bottle[0] -= 1\n",
    "        bottle[1] -= 1\n",
    "    \n",
    "    print('No more bottles of beer on the wall, no more bottles of beer. \\nGo to the store and buy some more, 99 bottles of beer on the wall')\n",
    "    return None\n",
    "\n",
    "#Done"
   ]
  },
  {
   "cell_type": "code",
   "execution_count": null,
   "metadata": {},
   "outputs": [],
   "source": [
    "#3 _Arm Strong Number_\n",
    "\n",
    "def armStrongNum (num1):\n",
    "    n = len(str(num1))\n",
    "    total=0\n",
    "    \n",
    "    conv = [int(x) for x in str(num1)]\n",
    "    for x in conv:\n",
    "        total += x**n\n",
    "        \n",
    "    return 'Yes' if num1==total else 'No'\n",
    "\n",
    "#Done"
   ]
  },
  {
   "cell_type": "code",
   "execution_count": null,
   "metadata": {},
   "outputs": [],
   "source": [
    "#4 _Pythagoreas Checker_\n",
    "\n",
    "def pythagoreasCheck (a,b,c):\n",
    "    num = [a,b,c]\n",
    "    num.sort()\n",
    "    \n",
    "    return 'Yes' if int(num[0])**2 + int(num[1])**2 == int(num[2])**2 else 'No'\n",
    "\n",
    "#Done"
   ]
  },
  {
   "cell_type": "code",
   "execution_count": null,
   "metadata": {},
   "outputs": [],
   "source": [
    "#5 _Menu Calculator_\n",
    "\n",
    "def menuCalculator (num):\n",
    "    item={1:3.5, 2:2.5, 3:4, 4:3.5, 5:1.75, 6:1.5, 7:2.25, 8:3.75, 9:1.25}\n",
    "    \n",
    "    food = [int(x) for x in str(num)]\n",
    "    total=0\n",
    "    for i in food:\n",
    "        total = total+item[i]\n",
    "        \n",
    "    return total\n",
    "\n",
    "#Done"
   ]
  },
  {
   "cell_type": "code",
   "execution_count": null,
   "metadata": {},
   "outputs": [],
   "source": [
    "#6 _Pokemon_ ##On going\n",
    "import random\n",
    "\n",
    "def tackle():\n",
    "    return random.randint(18,25)\n",
    "\n",
    "def roarOfTime():\n",
    "    return random.randint(10,35)\n",
    "\n",
    "def pokemonBattle(name):\n",
    "    you_hp=100\n",
    "    foe_hp=100\n",
    "    \n",
    "    while you_hp > 0:\n",
    "        next1 = input('What should you do? \\n1.Tackle \\n2.Slam \\n3.Synthesis')\n",
    "        if int(next1)==1:\n",
    "            dmg = tackle()          \n",
    "            print(name,'used Tackle!')\n",
    "            print(name,'does',dmg,'damage! \\nHP dropped from',foe_hp,'to',foe_hp-dmg,'!')   \n",
    "            foe_hp -= dmg\n",
    "        \n",
    "        elif int(next1)==2:\n",
    "            dmg = roarOfTime()          \n",
    "            print(name,'used Roar of Time!')\n",
    "            print(name,'does',dmg,'damage! \\nHP dropped from',foe_hp,'to',foe_hp-dmg,'!')\n",
    "            foe_hp -= dmg\n",
    "        \n",
    "        else:\n",
    "            heal=tackle()\n",
    "            if you_hp == 100:\n",
    "                print('Your HP is full!')\n",
    "            you_hp += heal\n",
    "            if you_hp >100:\n",
    "                you_hp = 100\n",
    "            print(name,'recovered',heal,'HP! HP now is',you_hp)\n",
    "        \n",
    "        if foe_hp <= 0:\n",
    "            print('Foe HP dropped to 0. You win!')\n",
    "        \n",
    "    return None    "
   ]
  },
  {
   "cell_type": "code",
   "execution_count": 29,
   "metadata": {},
   "outputs": [],
   "source": [
    "#7 _Palindrome_\n",
    "\n",
    "def isPalindrome(num):\n",
    "    num = str(num)\n",
    "    return num == num[::-1]\n"
   ]
  },
  {
   "cell_type": "code",
   "execution_count": null,
   "metadata": {},
   "outputs": [],
   "source": []
  }
 ],
 "metadata": {
  "kernelspec": {
   "display_name": "Python 3",
   "language": "python",
   "name": "python3"
  },
  "language_info": {
   "codemirror_mode": {
    "name": "ipython",
    "version": 3
   },
   "file_extension": ".py",
   "mimetype": "text/x-python",
   "name": "python",
   "nbconvert_exporter": "python",
   "pygments_lexer": "ipython3",
   "version": "3.7.6"
  }
 },
 "nbformat": 4,
 "nbformat_minor": 4
}
